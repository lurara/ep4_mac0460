{
 "cells": [
  {
   "cell_type": "code",
   "execution_count": 12,
   "metadata": {},
   "outputs": [
    {
     "name": "stdout",
     "output_type": "stream",
     "text": [
      "\n",
      "Name:  Lara Ayumi Nagamatsu & Lucy Anne de Omena Evangelista\n",
      "\n",
      "Honor pledge:  I affirm that I have not given or received any unauthorized help on this assignment, and that this work is my own.\n",
      "\n"
     ]
    }
   ],
   "source": [
    "name = \"Lara Ayumi Nagamatsu & Lucy Anne de Omena Evangelista\"  # write YOUR NAME\n",
    "\n",
    "honorPledge = \"I affirm that I have not given or received any unauthorized \" \\\n",
    "              \"help on this assignment, and that this work is my own.\\n\"\n",
    "\n",
    "\n",
    "print(\"\\nName: \", name)\n",
    "print(\"\\nHonor pledge: \", honorPledge)\n"
   ]
  },
  {
   "cell_type": "code",
   "execution_count": 29,
   "metadata": {
    "scrolled": false
   },
   "outputs": [],
   "source": [
    "import numpy as np\n",
    "import matplotlib.pyplot as plt\n",
    "from tensorflow.keras.datasets import mnist\n",
    "from sklearn.model_selection import GridSearchCV\n",
    "from sklearn.linear_model import LogisticRegression\n",
    "from sklearn.metrics import classification_report\n",
    "#import sklearn.linear_model\n",
    "import random\n",
    "\n",
    "%matplotlib inline"
   ]
  },
  {
   "cell_type": "code",
   "execution_count": 14,
   "metadata": {},
   "outputs": [
    {
     "name": "stdout",
     "output_type": "stream",
     "text": [
      "(60000, 28, 28) (60000,)\n",
      "(10000, 28, 28) (10000,)\n"
     ]
    }
   ],
   "source": [
    "(X_train_ori, y_train_ori), (X_test_ori, y_test_ori) = mnist.load_data()\n",
    "\n",
    "print(X_train_ori.shape, y_train_ori.shape)\n",
    "print(X_test_ori.shape, y_test_ori.shape)"
   ]
  },
  {
   "cell_type": "code",
   "execution_count": 15,
   "metadata": {},
   "outputs": [
    {
     "data": {
      "image/png": "[encoded data removed]",
      "text/plain": [
       "<Figure size 432x288 with 1 Axes>"
      ]
     },
     "metadata": {
      "needs_background": "light"
     },
     "output_type": "display_data"
    }
   ],
   "source": [
    "labels = [\"%s\"%i for i in range(10)]\n",
    "\n",
    "unique, counts = np.unique(y_train_ori, return_counts=True)\n",
    "uniquet, countst = np.unique(y_test_ori, return_counts=True)\n",
    "\n",
    "fig, ax = plt.subplots()\n",
    "rects1 = ax.bar(unique - 0.2, counts, 0.25, label='Train')\n",
    "rects2 = ax.bar(unique + 0.2, countst, 0.25, label='Test')\n",
    "ax.legend()\n",
    "ax.set_xticks(unique)\n",
    "ax.set_xticklabels(labels)\n",
    "\n",
    "plt.title('MNIST classes')\n",
    "plt.xlabel('Class')\n",
    "plt.ylabel('Frequency')\n",
    "plt.show()"
   ]
  },
  {
   "cell_type": "code",
   "execution_count": 16,
   "metadata": {},
   "outputs": [
    {
     "data": {
      "image/png": "[encoded data removed]",
      "text/plain": [
       "<Figure size 648x432 with 6 Axes>"
      ]
     },
     "metadata": {
      "needs_background": "light"
     },
     "output_type": "display_data"
    }
   ],
   "source": [
    "fig, ax = plt.subplots(2, 3, figsize = (9, 6))\n",
    "\n",
    "for i in range(6):\n",
    "    ax[i//3, i%3].imshow(X_train_ori[i], cmap='gray')\n",
    "    ax[i//3, i%3].axis('off')\n",
    "    ax[i//3, i%3].set_title(\"Class: %d\"%y_train_ori[i])\n",
    "    \n",
    "plt.show()"
   ]
  },
  {
   "cell_type": "code",
   "execution_count": 17,
   "metadata": {},
   "outputs": [],
   "source": [
    "# Reduce the image size to its half \n",
    "X_train = np.array([image[::2, 1::2] for image in X_train_ori])\n",
    "X_test  = np.array([image[::2, 1::2] for image in X_test_ori])\n",
    "\n",
    "y_train = y_train_ori\n",
    "y_test = y_test_ori"
   ]
  },
  {
   "cell_type": "code",
   "execution_count": 18,
   "metadata": {},
   "outputs": [
    {
     "data": {
      "image/png": "[encoded data removed]",
      "text/plain": [
       "<Figure size 648x432 with 6 Axes>"
      ]
     },
     "metadata": {
      "needs_background": "light"
     },
     "output_type": "display_data"
    }
   ],
   "source": [
    "fig, ax = plt.subplots(2, 3, figsize = (9, 6))\n",
    "\n",
    "for i in range(6):\n",
    "    ax[i//3, i%3].imshow(X_train[i], cmap='gray')\n",
    "    ax[i//3, i%3].axis('off')\n",
    "    ax[i//3, i%3].set_title(\"Class: %d\"%y_train_ori[i])\n",
    "    \n",
    "plt.show()"
   ]
  },
  {
   "cell_type": "code",
   "execution_count": 19,
   "metadata": {
    "scrolled": true
   },
   "outputs": [
    {
     "name": "stdout",
     "output_type": "stream",
     "text": [
      "float32\n",
      "float32\n",
      "\n",
      "Shape of X_train:  (60000, 196)\n",
      "Shape of X_test:  (10000, 196)\n",
      "\n",
      "Minimum value in X_train: 0.0\n",
      "Maximum value in X_train: 1.0\n",
      "\n",
      "Minimum value in X_test: 0.0\n",
      "Maximum value in X_test: 1.0\n"
     ]
    }
   ],
   "source": [
    "X_train = (X_train/255.0).astype('float32').reshape((60000,14*14))\n",
    "X_test = (X_test/255.0).astype('float32').reshape((10000,14*14))\n",
    "\n",
    "print(X_train.dtype)\n",
    "print(X_test.dtype)\n",
    "\n",
    "print(\"\\nShape of X_train: \", X_train.shape)\n",
    "print(\"Shape of X_test: \", X_test.shape)\n",
    "\n",
    "print(\"\\nMinimum value in X_train:\", np.amin(X_train))\n",
    "print(\"Maximum value in X_train:\", np.amax(X_train))\n",
    "\n",
    "print(\"\\nMinimum value in X_test:\", np.amin(X_test))\n",
    "print(\"Maximum value in X_test:\", np.amax(X_test))\n"
   ]
  },
  {
   "cell_type": "markdown",
   "metadata": {},
   "source": [
    "# Início do EP4\n",
    "## Separação dos Datasets\n",
    "\n",
    "Os datasets devem ser separados em $D_{val}$, $D_{train}$ e $D_{test}$; $D_{train}$ será composto por 70% do training set e $D_{val}$ será composto pelos restantes 30%."
   ]
  },
  {
   "cell_type": "code",
   "execution_count": 21,
   "metadata": {},
   "outputs": [
    {
     "name": "stdout",
     "output_type": "stream",
     "text": [
      "\n",
      "Size of train_ind:  42000\n",
      "Size of val_ind:  18000\n",
      "\n",
      "Shape of D_train:  (42000, 196)\n",
      "Shape of D_val:  (18000, 196)\n"
     ]
    },
    {
     "data": {
      "text/plain": [
       "'\\n\\n# ou usar\\n\\ntrain_data, test_data = sklearn.model_selection.train_test_split(original_data, train_size = 0.7,random_state=4278)\\n'"
      ]
     },
     "execution_count": 21,
     "metadata": {},
     "output_type": "execute_result"
    }
   ],
   "source": [
    "#escolher 42000 índices aleatórios diferentes e \n",
    "\n",
    "random.seed(333)\n",
    "train_ind = random.sample(range(0, 60000), 42000)      # 70%\n",
    "val_ind = list(set(range(0, 60000)) - set(train_ind))  # 30%\n",
    "print(\"\\nSize of train_ind: \", len(train_ind))\n",
    "print(\"Size of val_ind: \", len(val_ind))\n",
    "\n",
    "# INICIALIZANDO\n",
    "D_train = np.array([ [ None for y in range(196) ] for x in range(42000) ])\n",
    "D_val = np.array([ [ None for y in range(196) ] for x in range(18000) ])\n",
    "\n",
    "x = 0\n",
    "for i in train_ind:\n",
    "    row = X_train[i]\n",
    "    D_train[x][:] = [v for v in row]\n",
    "    x = x + 1\n",
    "\n",
    "D_train = np.array(D_train)\n",
    "\n",
    "x = 0\n",
    "for i in val_ind:\n",
    "    row = X_train[i]\n",
    "    D_val[x][:] = [v for v in row]\n",
    "    x = x + 1\n",
    "\n",
    "#D_val = np.array([X_train[i][j] for i in val_ind for j in range(0, 196)])\n",
    "D_val = np.array(D_val)\n",
    "\n",
    "# ASSOCIAR OS Y'S com os novos indices!!!\n",
    "D_y_train = [y_train[i] for i in train_ind]\n",
    "D_y_val = [y_train[i] for i in val_ind]\n",
    "\n",
    "print(\"\\nShape of D_train: \", D_train.shape)\n",
    "print(\"Shape of D_val: \", D_val.shape)\n",
    "\n",
    "\n",
    "\"\"\"\n",
    "\n",
    "# ou usar\n",
    "\n",
    "train_data, test_data = sklearn.model_selection.train_test_split(original_data, train_size = 0.7,random_state=4278)\n",
    "\"\"\"\n",
    "#You must partition the original training set into 70% training (D train ) and 30% validation (D val )\n",
    "#sets, in a stratified way. Make sure to include code to verify that the generated partition is indeed\n",
    "#stratified."
   ]
  },
  {
   "cell_type": "code",
   "execution_count": 22,
   "metadata": {},
   "outputs": [
    {
     "data": {
      "text/plain": [
       "array([0.0, 0.0, 0.0, 0.0, 0.0, 0.0, 0.0, 0.0, 0.0, 0.0, 0.0, 0.0, 0.0,\n",
       "       0.0, 0.0, 0.0, 0.0, 0.0, 0.0, 0.0, 0.0, 0.0, 0.0, 0.0, 0.0, 0.0,\n",
       "       0.0, 0.0, 0.0, 0.0, 0.0, 0.0, 0.0, 0.0, 0.0, 0.0, 0.0, 0.0, 0.0,\n",
       "       0.0, 0.0, 0.0, 0.0, 0.0, 0.0, 0.0, 0.0, 0.0, 0.37254903, 0.0, 0.0,\n",
       "       0.0, 0.36078432, 0.7764706, 0.0, 0.0, 0.0, 0.0, 0.0, 0.0, 0.0,\n",
       "       0.5137255, 0.99607843, 0.99607843, 0.99607843, 0.7372549,\n",
       "       0.7372549, 0.99607843, 0.0, 0.0, 0.0, 0.0, 0.0, 0.0, 0.0,\n",
       "       0.9137255, 0.40784314, 0.0, 0.23137255, 0.70980394, 0.22352941,\n",
       "       0.0, 0.0, 0.0, 0.0, 0.0, 0.0, 0.0, 0.23529412, 0.7882353, 0.0, 0.0,\n",
       "       0.0, 0.0, 0.0, 0.0, 0.0, 0.0, 0.0, 0.0, 0.0, 0.0, 0.21960784,\n",
       "       0.99607843, 0.3529412, 0.0, 0.0, 0.0, 0.0, 0.0, 0.0, 0.0, 0.0, 0.0,\n",
       "       0.26666668, 0.0, 0.0, 0.23529412, 0.99607843, 0.9843137, 0.0, 0.0,\n",
       "       0.0, 0.0, 0.0, 0.0, 0.0, 0.0, 0.8117647, 0.0, 0.0, 0.0, 0.18039216,\n",
       "       0.99607843, 0.101960786, 0.0, 0.0, 0.0, 0.0, 0.0, 0.0, 0.0, 0.8,\n",
       "       0.101960786, 0.0, 0.007843138, 0.70980394, 0.99607843, 0.101960786,\n",
       "       0.0, 0.0, 0.0, 0.0, 0.0, 0.0, 0.0, 0.0, 0.99607843, 0.99607843,\n",
       "       0.99607843, 0.9490196, 0.03137255, 0.0, 0.0, 0.0, 0.0, 0.0, 0.0,\n",
       "       0.0, 0.0, 0.0, 0.0, 0.0, 0.0, 0.0, 0.0, 0.0, 0.0, 0.0, 0.0, 0.0,\n",
       "       0.0, 0.0, 0.0, 0.0, 0.0, 0.0, 0.0, 0.0, 0.0, 0.0, 0.0, 0.0, 0.0,\n",
       "       0.0, 0.0], dtype=object)"
      ]
     },
     "execution_count": 22,
     "metadata": {},
     "output_type": "execute_result"
    }
   ],
   "source": [
    "D_train[0]"
   ]
  },
  {
   "cell_type": "markdown",
   "metadata": {},
   "source": [
    "## Treinando o algoritmo de aprendizagem\n",
    "Usamos agora o conjunto $D_{train}$ para treinar os algoritmos de aprendizagem sob parâmetros diferentes."
   ]
  },
  {
   "cell_type": "markdown",
   "metadata": {},
   "source": [
    "### Regressão Logística"
   ]
  },
  {
   "cell_type": "code",
   "execution_count": 30,
   "metadata": {},
   "outputs": [
    {
     "name": "stdout",
     "output_type": "stream",
     "text": [
      "Sem otimização:\n",
      "              precision    recall  f1-score   support\n",
      "\n",
      "           0       0.96      0.97      0.96      1805\n",
      "           1       0.93      0.97      0.95      2009\n",
      "           2       0.91      0.90      0.90      1785\n",
      "           3       0.90      0.87      0.89      1884\n",
      "           4       0.90      0.91      0.90      1722\n",
      "           5       0.87      0.84      0.86      1594\n",
      "           6       0.92      0.95      0.94      1759\n",
      "           7       0.92      0.92      0.92      1878\n",
      "           8       0.87      0.86      0.86      1750\n",
      "           9       0.89      0.87      0.88      1814\n",
      "\n",
      "    accuracy                           0.91     18000\n",
      "   macro avg       0.91      0.91      0.91     18000\n",
      "weighted avg       0.91      0.91      0.91     18000\n",
      "\n"
     ]
    }
   ],
   "source": [
    "#https://scikit-learn.org/stable/modules/generated/sklearn.metrics.accuracy_score.html#sklearn.metrics.accuracy_score\n",
    "print(\"Sem otimização:\")\n",
    "\n",
    "logreg = LogisticRegression(max_iter=1000) # tive de aumentar o max_iter para convergir...\n",
    "# atributos interessantes: tol, class_weight, max_iter, C\n",
    "logreg.get_params() # imprime os hiperparametros!\n",
    "logreg.fit(D_train, D_y_train)\n",
    "predictions = logreg.predict(D_val) \n",
    "print(classification_report(D_y_val, predictions)) \n"
   ]
  },
  {
   "cell_type": "code",
   "execution_count": null,
   "metadata": {},
   "outputs": [],
   "source": [
    "#https://scikit-learn.org/stable/modules/grid_search.html\n",
    "#grid = GridSearchCV( n_jobs=1, param_grid=param_grid)\n",
    "#https://stackoverflow.com/questions/38640109/logistic-regression-python-solvers-definitions/52388406#52388406\n",
    "print(\"Testes de otimização:\")\n",
    "# Teste com otimização de hiperparâmetros\n",
    "param_grid = {'C': [1, 5, 10], \n",
    "              'max_iter': [1000], \n",
    "              'tol': [0.0001, 0.0005, 0.001]}\n",
    "\n",
    "grid = GridSearchCV(LogisticRegression(), param_grid, refit=True) # quando usava n_job= -1 dava erro\n",
    "grid.fit(D_train, D_y_train)\n",
    "print(grid.best_params_) \n",
    "grid_predictions = grid.predict(D_val)\n",
    "print(classification_report(D_y_val, grid_predictions))"
   ]
  },
  {
   "cell_type": "markdown",
   "metadata": {},
   "source": [
    "### Redes Neurais"
   ]
  },
  {
   "cell_type": "markdown",
   "metadata": {},
   "source": [
    "### Support Vector Machines"
   ]
  },
  {
   "cell_type": "markdown",
   "metadata": {},
   "source": [
    "## Validando\n",
    "Checamos a validação das hipóteses com $D_{val}$ para elencar os modelos e escolher o melhor."
   ]
  },
  {
   "cell_type": "code",
   "execution_count": null,
   "metadata": {},
   "outputs": [],
   "source": []
  },
  {
   "cell_type": "markdown",
   "metadata": {},
   "source": [
    "## Modelo Final - Estimação de Erro\n",
    "Temos o melhor modelo baseado no erro de validação. Estimamos sua performance."
   ]
  },
  {
   "cell_type": "code",
   "execution_count": null,
   "metadata": {},
   "outputs": [],
   "source": []
  }
 ],
 "metadata": {
  "kernelspec": {
   "display_name": "Python 3",
   "language": "python",
   "name": "python3"
  },
  "language_info": {
   "codemirror_mode": {
    "name": "ipython",
    "version": 3
   },
   "file_extension": ".py",
   "mimetype": "text/x-python",
   "name": "python",
   "nbconvert_exporter": "python",
   "pygments_lexer": "ipython3",
   "version": "3.6.9"
  },
  "toc": {
   "base_numbering": 1,
   "nav_menu": {},
   "number_sections": true,
   "sideBar": true,
   "skip_h1_title": false,
   "title_cell": "Table of Contents",
   "title_sidebar": "Contents",
   "toc_cell": false,
   "toc_position": {},
   "toc_section_display": true,
   "toc_window_display": false
  }
 },
 "nbformat": 4,
 "nbformat_minor": 2
}
